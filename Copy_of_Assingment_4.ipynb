{
  "nbformat": 4,
  "nbformat_minor": 0,
  "metadata": {
    "kernelspec": {
      "display_name": "Python 3",
      "language": "python",
      "name": "python3"
    },
    "language_info": {
      "codemirror_mode": {
        "name": "ipython",
        "version": 3
      },
      "file_extension": ".py",
      "mimetype": "text/x-python",
      "name": "python",
      "nbconvert_exporter": "python",
      "pygments_lexer": "ipython3",
      "version": "3.7.1"
    },
    "colab": {
      "name": "Copy of Assingment 4.ipynb",
      "provenance": [],
      "collapsed_sections": [],
      "include_colab_link": true
    }
  },
  "cells": [
    {
      "cell_type": "markdown",
      "metadata": {
        "id": "view-in-github",
        "colab_type": "text"
      },
      "source": [
        "<a href=\"https://colab.research.google.com/github/A-N-Martin/GreenBottle/blob/master/Copy_of_Assingment_4.ipynb\" target=\"_parent\"><img src=\"https://colab.research.google.com/assets/colab-badge.svg\" alt=\"Open In Colab\"/></a>"
      ]
    },
    {
      "cell_type": "markdown",
      "metadata": {
        "id": "5Z6yb_gzz1XI",
        "colab_type": "text"
      },
      "source": [
        "# Assignmnet 4\n",
        "\n",
        "### IFT6758 Fall 2019\n",
        "\n",
        "### Due date: December 15, 2019\n",
        "\n",
        "### Submit your answers and code as a pdf file in gradescope."
      ]
    },
    {
      "cell_type": "markdown",
      "metadata": {
        "id": "HzOxCc2oz1XK",
        "colab_type": "text"
      },
      "source": [
        "### Deep Learning (Convolutional Neural Networks) [60 points + 10 bonus points]\n",
        "\n",
        "This set of assignments will give you experience with deep learning. You will learn how to use convolution neural networks on a image corpus. \n",
        "\n",
        "For this problem use [documentation for Keras](https://keras.io/) deep learning library and for [Sklearn](https://scikit-learn.org/stable/index.html). Provide your code and the output.\n",
        "\n",
        "#### Data preparation (20 points)\n",
        "\n",
        "1. (1 point) Search MNIST dataset at [OpenML](https://www.openml.org/), it is called \"mnist_784\". Download it using sklearn function `fetch_openml`. Get features and targets."
      ]
    },
    {
      "cell_type": "markdown",
      "metadata": {
        "id": "y98XeYcTneRz",
        "colab_type": "text"
      },
      "source": [
        "**Note that this notebook with the code and answer is accessible at https://colab.research.google.com/drive/1gaK9edV7YExQg2PAjAY5fGaUKklUHXp0**"
      ]
    },
    {
      "cell_type": "code",
      "metadata": {
        "id": "c6V5LFCXct6t",
        "colab_type": "code",
        "colab": {}
      },
      "source": [
        "import sklearn\n",
        "import sklearn.datasets"
      ],
      "execution_count": 0,
      "outputs": []
    },
    {
      "cell_type": "code",
      "metadata": {
        "id": "vRSF6Kdbz1XL",
        "colab_type": "code",
        "colab": {}
      },
      "source": [
        "# Your solution here\n",
        "X,y = sklearn.datasets.fetch_openml('mnist_784', return_X_y=True)"
      ],
      "execution_count": 0,
      "outputs": []
    },
    {
      "cell_type": "markdown",
      "metadata": {
        "id": "___LmoL7z1XN",
        "colab_type": "text"
      },
      "source": [
        "> This dataset represents each (28x28) image as a flat arrray of 784 features.\n",
        "\n",
        "2. (3 point) Reshape it back to 28x28 and visualize a couple of images with matplotlib.\n",
        "\n",
        "> Finally, we want to add one dummy dimension for the non-existent color information. Every resulting image should have dimensions 28x28x1. \n",
        ">\n",
        "> We want this extra dimensions because image libraries are targeted towards RGB images that have 3 channels. Therefore RGB images are conviniently represented by the shape of WxHx3. We don't have 3 colors for MNIST dataset, so we just provide 1 channel.\n",
        "\n",
        "3. (3 point) Add a channel dimension.\n"
      ]
    },
    {
      "cell_type": "code",
      "metadata": {
        "id": "9Im01is2z1XN",
        "colab_type": "code",
        "colab": {}
      },
      "source": [
        "import numpy as np\n",
        "reshape_X = np.array([np.reshape(sample,(28,28,1)) for sample in X])"
      ],
      "execution_count": 0,
      "outputs": []
    },
    {
      "cell_type": "markdown",
      "metadata": {
        "id": "fn9MhHtSz1XP",
        "colab_type": "text"
      },
      "source": [
        "> To simplify the task we exclude some classes.\n",
        "\n",
        "4. (3 point) Filter data leaving only classes `1`, `3`, `7`. Transform features and targets. How many data points left after filtering?"
      ]
    },
    {
      "cell_type": "code",
      "metadata": {
        "id": "ktKgguIQz1XP",
        "colab_type": "code",
        "colab": {}
      },
      "source": [
        "ind = [i for i in range(len(y)) if y[i] =='1' or y[i]=='3' or y[i]=='7']\n",
        "filter_X = reshape_X[ind,:]\n",
        "filter_y = y[ind]"
      ],
      "execution_count": 0,
      "outputs": []
    },
    {
      "cell_type": "code",
      "metadata": {
        "id": "HM6cEzfftNnu",
        "colab_type": "code",
        "outputId": "73b49856-6a4d-4c5d-a4a6-08f3abc1fbba",
        "colab": {
          "base_uri": "https://localhost:8080/",
          "height": 36
        }
      },
      "source": [
        "filter_X.shape"
      ],
      "execution_count": 0,
      "outputs": [
        {
          "output_type": "execute_result",
          "data": {
            "text/plain": [
              "(22311, 28, 28, 1)"
            ]
          },
          "metadata": {
            "tags": []
          },
          "execution_count": 9
        }
      ]
    },
    {
      "cell_type": "markdown",
      "metadata": {
        "id": "zFcN2AjvtS42",
        "colab_type": "text"
      },
      "source": [
        "**Answer:** We have only 22,311 data points after filtering instead of 70,000."
      ]
    },
    {
      "cell_type": "markdown",
      "metadata": {
        "id": "V5V6yFByz1XR",
        "colab_type": "text"
      },
      "source": [
        "5. (5 point) Convert targets to one-hot representation. Complete the following template.\n",
        "\n",
        "\n",
        "```python\n",
        "def to_categorical(array, classes):\n",
        "    \"\"\"\n",
        "    array -- array of targets\n",
        "    classes -- list of classes\n",
        "    \"\"\"\n",
        "    ...\n",
        "\n",
        "mnist_targets = to_categorical(mnist_targets, classes=...)\n",
        "```"
      ]
    },
    {
      "cell_type": "code",
      "metadata": {
        "id": "7wcXJ9pRz1XS",
        "colab_type": "code",
        "colab": {}
      },
      "source": [
        "def to_categorical(array, classes):\n",
        "    \"\"\"\n",
        "    array -- array of targets\n",
        "    classes -- list of classes\n",
        "    \"\"\"\n",
        "    dict_of_classes = {}\n",
        "    for i,cl in enumerate(classes):\n",
        "      dict_of_classes[cl]=i\n",
        "    onehot = np.zeros((len(array),len(classes)))\n",
        "    for i in range(len(array)):\n",
        "      onehot[i][dict_of_classes[array[i]]]=1\n",
        "    \n",
        "    return onehot\n",
        "\n",
        "    \n",
        " \n",
        "mnist_targets = to_categorical(filter_y, classes=[cl for cl in np.unique(filter_y)])\n",
        "\n"
      ],
      "execution_count": 0,
      "outputs": []
    },
    {
      "cell_type": "code",
      "metadata": {
        "id": "0k1JoH3m3lwT",
        "colab_type": "code",
        "outputId": "39a39c05-9a93-4012-ce43-d78a6072e6e5",
        "colab": {
          "base_uri": "https://localhost:8080/",
          "height": 148
        }
      },
      "source": [
        "mnist_targets "
      ],
      "execution_count": 0,
      "outputs": [
        {
          "output_type": "execute_result",
          "data": {
            "text/plain": [
              "array([[1., 0., 0.],\n",
              "       [1., 0., 0.],\n",
              "       [0., 1., 0.],\n",
              "       ...,\n",
              "       [0., 0., 1.],\n",
              "       [1., 0., 0.],\n",
              "       [0., 1., 0.]])"
            ]
          },
          "metadata": {
            "tags": []
          },
          "execution_count": 12
        }
      ]
    },
    {
      "cell_type": "markdown",
      "metadata": {
        "id": "cFSmQf2az1XT",
        "colab_type": "text"
      },
      "source": [
        "6. (5 point) Split the dataset into train, validataion, and test. Take first 16,000 images and targets as the train, then next 3,000 as validation, then the rest as the test subset."
      ]
    },
    {
      "cell_type": "code",
      "metadata": {
        "id": "iOshw8xxz1XU",
        "colab_type": "code",
        "colab": {}
      },
      "source": [
        "X_train = filter_X[:16000]\n",
        "y_train = mnist_targets[:16000]\n",
        "X_valid = filter_X[16000:19000]\n",
        "y_valid = mnist_targets[16000:19000]\n",
        "X_test = filter_X[19000:]\n",
        "y_test = mnist_targets[19000:]"
      ],
      "execution_count": 0,
      "outputs": []
    },
    {
      "cell_type": "markdown",
      "metadata": {
        "id": "fbd6JDHFz1XW",
        "colab_type": "text"
      },
      "source": [
        "\n",
        "#### Training (35 points)\n"
      ]
    },
    {
      "cell_type": "markdown",
      "metadata": {
        "id": "WLwaDGjhz1XW",
        "colab_type": "text"
      },
      "source": [
        "Use Keras (https://keras.io/) to create a neural network model. Use a sequential layer to combine following layers in this order:\n",
        "- Convolution with 6 feature maps 5x5\n",
        "- Rectified linear unit activation\n",
        "- Max-pooling by factor of 2 each spacial dimension\n",
        "- Convolution with 16 feature maps 5x5\n",
        "- Rectified linear unit activation\n",
        "- Max-pooling by factor of 2 each spacial dimension\n",
        "- Flatten layer\n",
        "- Dense layer with 128 output units\n",
        "- Rectified linear unit activation\n",
        "- Dense layer. Same size as the target.\n",
        "- Softmax activation\n",
        "\n",
        "1. (10 points) Complete the following template.\n",
        "\n",
        "```python\n",
        "... # place your imports here\n",
        "\n",
        "model = Sequential([\n",
        "    ..., # convolution\n",
        "    ..., # activation\n",
        "    ..., # pooling\n",
        "    ..., # convolution\n",
        "    ..., # activation\n",
        "    ..., # pooling\n",
        "    Flatten(),\n",
        "    ..., # fully connected\n",
        "    ..., # activation\n",
        "    ..., # fully connected output\n",
        "    ..., # softmax\n",
        "])\n",
        "model.summary()\n",
        "```"
      ]
    },
    {
      "cell_type": "code",
      "metadata": {
        "id": "EvRbp25Uz1XX",
        "colab_type": "code",
        "colab": {}
      },
      "source": [
        "import keras\n",
        "from keras.models import Sequential\n",
        "from keras.layers import Dense, Dropout, Flatten, Conv2D, MaxPooling2D, Activation"
      ],
      "execution_count": 0,
      "outputs": []
    },
    {
      "cell_type": "code",
      "metadata": {
        "id": "BSydTJuT2JVZ",
        "colab_type": "code",
        "outputId": "157a44e5-2790-4189-fe7b-365cee2227e7",
        "colab": {
          "base_uri": "https://localhost:8080/",
          "height": 578
        }
      },
      "source": [
        "model = Sequential([\n",
        "    Conv2D(6, (5, 5), input_shape=(28,28,1)), # convolution\n",
        "    Activation('relu'), # activation\n",
        "    MaxPooling2D(pool_size=(2,2)), # pooling\n",
        "    Conv2D(16, (5, 5)), # convolution\n",
        "    Activation('relu'), # activation\n",
        "    MaxPooling2D(pool_size=(2,2)), # pooling\n",
        "    Flatten(),\n",
        "    Dense(128), # fully connected\n",
        "    Activation('relu'), # activation\n",
        "    Dense(3), # fully connected output\n",
        "    Activation('softmax'), # softmax\n",
        "])\n",
        "model.summary()"
      ],
      "execution_count": 0,
      "outputs": [
        {
          "output_type": "stream",
          "text": [
            "Model: \"sequential_3\"\n",
            "_________________________________________________________________\n",
            "Layer (type)                 Output Shape              Param #   \n",
            "=================================================================\n",
            "conv2d_5 (Conv2D)            (None, 24, 24, 6)         156       \n",
            "_________________________________________________________________\n",
            "activation_9 (Activation)    (None, 24, 24, 6)         0         \n",
            "_________________________________________________________________\n",
            "max_pooling2d_5 (MaxPooling2 (None, 12, 12, 6)         0         \n",
            "_________________________________________________________________\n",
            "conv2d_6 (Conv2D)            (None, 8, 8, 16)          2416      \n",
            "_________________________________________________________________\n",
            "activation_10 (Activation)   (None, 8, 8, 16)          0         \n",
            "_________________________________________________________________\n",
            "max_pooling2d_6 (MaxPooling2 (None, 4, 4, 16)          0         \n",
            "_________________________________________________________________\n",
            "flatten_3 (Flatten)          (None, 256)               0         \n",
            "_________________________________________________________________\n",
            "dense_5 (Dense)              (None, 128)               32896     \n",
            "_________________________________________________________________\n",
            "activation_11 (Activation)   (None, 128)               0         \n",
            "_________________________________________________________________\n",
            "dense_6 (Dense)              (None, 3)                 387       \n",
            "_________________________________________________________________\n",
            "activation_12 (Activation)   (None, 3)                 0         \n",
            "=================================================================\n",
            "Total params: 35,855\n",
            "Trainable params: 35,855\n",
            "Non-trainable params: 0\n",
            "_________________________________________________________________\n"
          ],
          "name": "stdout"
        }
      ]
    },
    {
      "cell_type": "markdown",
      "metadata": {
        "id": "W5mn_1G-z1XZ",
        "colab_type": "text"
      },
      "source": [
        "2. (5 point) Create a stochastic gradient optimizer optimizer with learning rate of $10^{-4}$. Compile the model with the categorical crossentropy loss. Set the model to report accuracy metric. Complete the template.\n",
        "\n",
        "\n",
        "```python\n",
        "... # place your imports here\n",
        "\n",
        "optimizer = ... # create stochastic gradient optimizer\n",
        "model.compile(loss='categorical_crossentropy',\n",
        "              optimizer=optimizer,\n",
        "              metrics=['accuracy'],\n",
        "              )\n",
        "```"
      ]
    },
    {
      "cell_type": "code",
      "metadata": {
        "id": "9hX9AsDfz1XZ",
        "colab_type": "code",
        "colab": {}
      },
      "source": [
        "from keras import optimizers\n",
        " \n",
        "optimizer = optimizers.SGD(lr=0.0001) # create stochastic gradient optimizer\n",
        "model.compile(loss='categorical_crossentropy',\n",
        "              optimizer=optimizer,\n",
        "              metrics=['accuracy'],\n",
        "              )"
      ],
      "execution_count": 0,
      "outputs": []
    },
    {
      "cell_type": "markdown",
      "metadata": {
        "id": "P4CJxXqVz1Xb",
        "colab_type": "text"
      },
      "source": [
        "3. (15 points) Train the model on the training set for at least 5 epochs. Perform validation after every epoch.\n",
        "\n",
        "> **HINT** Find a method that performs training in the Keras documentation. Study the documentation paying attention to all arguments and the return value of the method.\n",
        "\n",
        "> The model should have at least 95% accuracy on the training set. It might happen that the training gets stuck. In this case, go to the step before prevoious, recreate and rerun the model. \n",
        "\n",
        "> **WARNING** This step might take several minutes to compute on a laptop."
      ]
    },
    {
      "cell_type": "code",
      "metadata": {
        "id": "aIBpRiD0z1Xb",
        "colab_type": "code",
        "outputId": "2c513f32-abcd-49c9-8537-53a22da169cb",
        "colab": {
          "base_uri": "https://localhost:8080/",
          "height": 971
        }
      },
      "source": [
        "hist = model.fit(x=X_train,y=y_train,epochs=25,validation_data=(X_valid,y_valid))"
      ],
      "execution_count": 0,
      "outputs": [
        {
          "output_type": "stream",
          "text": [
            "Train on 16000 samples, validate on 3000 samples\n",
            "Epoch 1/25\n",
            "16000/16000 [==============================] - 10s 622us/step - loss: 1.6961 - acc: 0.8633 - val_loss: 0.2519 - val_acc: 0.9707\n",
            "Epoch 2/25\n",
            "16000/16000 [==============================] - 10s 596us/step - loss: 0.2974 - acc: 0.9661 - val_loss: 0.1860 - val_acc: 0.9767\n",
            "Epoch 3/25\n",
            "16000/16000 [==============================] - 9s 587us/step - loss: 0.2266 - acc: 0.9731 - val_loss: 0.1637 - val_acc: 0.9807\n",
            "Epoch 4/25\n",
            "16000/16000 [==============================] - 10s 595us/step - loss: 0.1837 - acc: 0.9774 - val_loss: 0.1369 - val_acc: 0.9820\n",
            "Epoch 5/25\n",
            "16000/16000 [==============================] - 9s 584us/step - loss: 0.1558 - acc: 0.9802 - val_loss: 0.1262 - val_acc: 0.9813\n",
            "Epoch 6/25\n",
            "16000/16000 [==============================] - 9s 587us/step - loss: 0.1352 - acc: 0.9825 - val_loss: 0.1304 - val_acc: 0.9813\n",
            "Epoch 7/25\n",
            "16000/16000 [==============================] - 9s 592us/step - loss: 0.1185 - acc: 0.9845 - val_loss: 0.1184 - val_acc: 0.9827\n",
            "Epoch 8/25\n",
            "16000/16000 [==============================] - 9s 584us/step - loss: 0.1086 - acc: 0.9857 - val_loss: 0.1043 - val_acc: 0.9850\n",
            "Epoch 9/25\n",
            "16000/16000 [==============================] - 9s 584us/step - loss: 0.0982 - acc: 0.9872 - val_loss: 0.0989 - val_acc: 0.9857\n",
            "Epoch 10/25\n",
            "16000/16000 [==============================] - 9s 594us/step - loss: 0.0906 - acc: 0.9876 - val_loss: 0.0923 - val_acc: 0.9857\n",
            "Epoch 11/25\n",
            "16000/16000 [==============================] - 10s 629us/step - loss: 0.0825 - acc: 0.9883 - val_loss: 0.0836 - val_acc: 0.9873\n",
            "Epoch 12/25\n",
            "16000/16000 [==============================] - 10s 631us/step - loss: 0.0752 - acc: 0.9891 - val_loss: 0.0924 - val_acc: 0.9853\n",
            "Epoch 13/25\n",
            "16000/16000 [==============================] - 10s 622us/step - loss: 0.0697 - acc: 0.9889 - val_loss: 0.0853 - val_acc: 0.9860\n",
            "Epoch 14/25\n",
            "16000/16000 [==============================] - 10s 618us/step - loss: 0.0650 - acc: 0.9896 - val_loss: 0.0680 - val_acc: 0.9900\n",
            "Epoch 15/25\n",
            "16000/16000 [==============================] - 10s 609us/step - loss: 0.0579 - acc: 0.9893 - val_loss: 0.0686 - val_acc: 0.9890\n",
            "Epoch 16/25\n",
            "16000/16000 [==============================] - 10s 638us/step - loss: 0.0519 - acc: 0.9921 - val_loss: 0.0654 - val_acc: 0.9900\n",
            "Epoch 17/25\n",
            "16000/16000 [==============================] - 10s 619us/step - loss: 0.0487 - acc: 0.9919 - val_loss: 0.0618 - val_acc: 0.9903\n",
            "Epoch 18/25\n",
            "16000/16000 [==============================] - 10s 627us/step - loss: 0.0463 - acc: 0.9919 - val_loss: 0.0603 - val_acc: 0.9897\n",
            "Epoch 19/25\n",
            "16000/16000 [==============================] - 10s 618us/step - loss: 0.0420 - acc: 0.9926 - val_loss: 0.0592 - val_acc: 0.9900\n",
            "Epoch 20/25\n",
            "16000/16000 [==============================] - 10s 597us/step - loss: 0.0393 - acc: 0.9929 - val_loss: 0.0550 - val_acc: 0.9900\n",
            "Epoch 21/25\n",
            "16000/16000 [==============================] - 10s 624us/step - loss: 0.0345 - acc: 0.9935 - val_loss: 0.0585 - val_acc: 0.9897\n",
            "Epoch 22/25\n",
            "16000/16000 [==============================] - 10s 627us/step - loss: 0.0337 - acc: 0.9934 - val_loss: 0.0538 - val_acc: 0.9887\n",
            "Epoch 23/25\n",
            "16000/16000 [==============================] - 10s 633us/step - loss: 0.0321 - acc: 0.9932 - val_loss: 0.0535 - val_acc: 0.9900\n",
            "Epoch 24/25\n",
            "16000/16000 [==============================] - 10s 628us/step - loss: 0.0294 - acc: 0.9943 - val_loss: 0.0602 - val_acc: 0.9893\n",
            "Epoch 25/25\n",
            "16000/16000 [==============================] - 10s 645us/step - loss: 0.0272 - acc: 0.9946 - val_loss: 0.0635 - val_acc: 0.9890\n"
          ],
          "name": "stdout"
        }
      ]
    },
    {
      "cell_type": "markdown",
      "metadata": {
        "id": "oJZUHX0dz1Xd",
        "colab_type": "text"
      },
      "source": [
        "4. (5 points) Plot the training loss against the validation loss. Do you observe overfitting/underfitting?\n",
        "\n",
        "> **HINT** Explore the return value in the previous step."
      ]
    },
    {
      "cell_type": "code",
      "metadata": {
        "id": "E02CbYsBz1Xd",
        "colab_type": "code",
        "outputId": "e8da456d-5b3e-4649-8483-26a4fb2384ac",
        "colab": {
          "base_uri": "https://localhost:8080/",
          "height": 295
        }
      },
      "source": [
        "import matplotlib.pyplot as plt\n",
        "\n",
        "plt.plot(hist.history['loss'])\n",
        "plt.plot(hist.history['val_loss'])\n",
        "plt.title('Model loss')\n",
        "plt.ylabel('Loss')\n",
        "plt.xlabel('Epoch')\n",
        "plt.legend(['Train', 'Val'], loc='upper right')\n",
        "plt.show()"
      ],
      "execution_count": 0,
      "outputs": [
        {
          "output_type": "display_data",
          "data": {
            "image/png": "[encoded data removed]",
            "text/plain": [
              "<Figure size 432x288 with 1 Axes>"
            ]
          },
          "metadata": {
            "tags": []
          }
        }
      ]
    },
    {
      "cell_type": "markdown",
      "metadata": {
        "id": "ZRqIv9xZz1Xf",
        "colab_type": "text"
      },
      "source": [
        "#### Evaluation (5 points)\n",
        "\n",
        "1. (1 point) Make prediciton of the model on the test set \n"
      ]
    },
    {
      "cell_type": "code",
      "metadata": {
        "id": "lmv0rOkyz1Xg",
        "colab_type": "code",
        "colab": {}
      },
      "source": [
        "prob = model.predict(X_test)"
      ],
      "execution_count": 0,
      "outputs": []
    },
    {
      "cell_type": "markdown",
      "metadata": {
        "id": "FKNg0W0Bz1Xh",
        "colab_type": "text"
      },
      "source": [
        "2. (4 points) Compute the confusion matrix and the accuracy. Which classes confused most often?\n",
        "\n",
        "> The model should have at least 90% accuracy."
      ]
    },
    {
      "cell_type": "markdown",
      "metadata": {
        "id": "YEUqHFXi2Xqd",
        "colab_type": "text"
      },
      "source": [
        "**Answer:** The two classes that get confused most often are the 3 and 7 with a total of 22 misclassified samples."
      ]
    },
    {
      "cell_type": "code",
      "metadata": {
        "id": "Xr9y8D59z1Xi",
        "colab_type": "code",
        "outputId": "ede6324f-e380-4bd8-d2d8-b2446a68b24b",
        "colab": {
          "base_uri": "https://localhost:8080/",
          "height": 92
        }
      },
      "source": [
        "print(sklearn.metrics.confusion_matrix(y_test.argmax(axis=1),prob.argmax(axis=1),labels=[0, 1, 2]))\n",
        "print('The accuracy of the model is: ',sklearn.metrics.accuracy_score(y_test.argmax(axis=1),prob.argmax(axis=1)))"
      ],
      "execution_count": 0,
      "outputs": [
        {
          "output_type": "stream",
          "text": [
            "[[1175    5    2]\n",
            " [   4 1042    7]\n",
            " [  16   15 1045]]\n",
            "The accuracy of the model is:  0.985200845665962\n"
          ],
          "name": "stdout"
        }
      ]
    },
    {
      "cell_type": "markdown",
      "metadata": {
        "id": "0_RXshgLz1Xk",
        "colab_type": "text"
      },
      "source": [
        "#### Bonus point (10 points)\n",
        "\n",
        "Can you suggest an improvement to the model? Implement it and compare to the one above. How to do robust comparison of the performance?"
      ]
    },
    {
      "cell_type": "markdown",
      "metadata": {
        "id": "Af-IWL4Y4ZcW",
        "colab_type": "text"
      },
      "source": [
        "**Answer:** We could increase the number of feature maps to detect more pattern in the image. To compare the two models, we should train both model multiple times and ensuring that we use the same seed for both model each time and then, compare their overall average performance."
      ]
    },
    {
      "cell_type": "code",
      "metadata": {
        "id": "sej8L9EU2zHO",
        "colab_type": "code",
        "outputId": "b69ed47c-a920-4292-9ee9-a910545e6c6b",
        "colab": {
          "base_uri": "https://localhost:8080/",
          "height": 578
        }
      },
      "source": [
        "model_bonus = Sequential([\n",
        "    Conv2D(36, (5, 5), input_shape=(28,28,1)), # convolution\n",
        "    Activation('relu'), # activation\n",
        "    MaxPooling2D(pool_size=(2,2)), # pooling\n",
        "    Conv2D(46, (5, 5)), # convolution\n",
        "    Activation('relu'), # activation\n",
        "    MaxPooling2D(pool_size=(2,2)), # pooling\n",
        "    Flatten(),\n",
        "    Dense(128), # fully connected\n",
        "    Activation('relu'), # activation\n",
        "    Dense(3), # fully connected output\n",
        "    Activation('softmax'), # softmax\n",
        "])\n",
        "model_bonus.summary()\n",
        "\n",
        "\n"
      ],
      "execution_count": 0,
      "outputs": [
        {
          "output_type": "stream",
          "text": [
            "Model: \"sequential_15\"\n",
            "_________________________________________________________________\n",
            "Layer (type)                 Output Shape              Param #   \n",
            "=================================================================\n",
            "conv2d_33 (Conv2D)           (None, 24, 24, 36)        936       \n",
            "_________________________________________________________________\n",
            "activation_61 (Activation)   (None, 24, 24, 36)        0         \n",
            "_________________________________________________________________\n",
            "max_pooling2d_32 (MaxPooling (None, 12, 12, 36)        0         \n",
            "_________________________________________________________________\n",
            "conv2d_34 (Conv2D)           (None, 8, 8, 46)          41446     \n",
            "_________________________________________________________________\n",
            "activation_62 (Activation)   (None, 8, 8, 46)          0         \n",
            "_________________________________________________________________\n",
            "max_pooling2d_33 (MaxPooling (None, 4, 4, 46)          0         \n",
            "_________________________________________________________________\n",
            "flatten_15 (Flatten)         (None, 736)               0         \n",
            "_________________________________________________________________\n",
            "dense_29 (Dense)             (None, 128)               94336     \n",
            "_________________________________________________________________\n",
            "activation_63 (Activation)   (None, 128)               0         \n",
            "_________________________________________________________________\n",
            "dense_30 (Dense)             (None, 3)                 387       \n",
            "_________________________________________________________________\n",
            "activation_64 (Activation)   (None, 3)                 0         \n",
            "=================================================================\n",
            "Total params: 137,105\n",
            "Trainable params: 137,105\n",
            "Non-trainable params: 0\n",
            "_________________________________________________________________\n"
          ],
          "name": "stdout"
        }
      ]
    },
    {
      "cell_type": "code",
      "metadata": {
        "id": "HjRwprsV3Xk9",
        "colab_type": "code",
        "colab": {}
      },
      "source": [
        "optimizer = optimizers.SGD(lr=0.0005) # create stochastic gradient optimizer\n",
        "model_bonus.compile(loss='categorical_crossentropy',\n",
        "              optimizer=optimizer,\n",
        "              metrics=['accuracy'],\n",
        "              )"
      ],
      "execution_count": 0,
      "outputs": []
    },
    {
      "cell_type": "code",
      "metadata": {
        "id": "tYjj-JkE3bV1",
        "colab_type": "code",
        "outputId": "c0e832a6-26c5-417a-80ca-3adae86e72f3",
        "colab": {
          "base_uri": "https://localhost:8080/",
          "height": 971
        }
      },
      "source": [
        "hist_bonus = model_bonus.fit(x=X_train,y=y_train,epochs=25,validation_data=(X_valid,y_valid))"
      ],
      "execution_count": 0,
      "outputs": [
        {
          "output_type": "stream",
          "text": [
            "Train on 16000 samples, validate on 3000 samples\n",
            "Epoch 1/25\n",
            "16000/16000 [==============================] - 22s 1ms/step - loss: 5.2462 - acc: 0.6706 - val_loss: 5.2567 - val_acc: 0.6727\n",
            "Epoch 2/25\n",
            "16000/16000 [==============================] - 22s 1ms/step - loss: 0.8814 - acc: 0.9356 - val_loss: 0.0716 - val_acc: 0.9897\n",
            "Epoch 3/25\n",
            "16000/16000 [==============================] - 22s 1ms/step - loss: 0.0829 - acc: 0.9874 - val_loss: 0.0423 - val_acc: 0.9923\n",
            "Epoch 4/25\n",
            "16000/16000 [==============================] - 22s 1ms/step - loss: 0.0452 - acc: 0.9923 - val_loss: 0.0341 - val_acc: 0.9940\n",
            "Epoch 5/25\n",
            "16000/16000 [==============================] - 22s 1ms/step - loss: 0.0273 - acc: 0.9949 - val_loss: 0.0224 - val_acc: 0.9943\n",
            "Epoch 6/25\n",
            "16000/16000 [==============================] - 22s 1ms/step - loss: 0.0169 - acc: 0.9963 - val_loss: 0.0237 - val_acc: 0.9957\n",
            "Epoch 7/25\n",
            "16000/16000 [==============================] - 23s 1ms/step - loss: 0.0127 - acc: 0.9971 - val_loss: 0.0218 - val_acc: 0.9943\n",
            "Epoch 8/25\n",
            "16000/16000 [==============================] - 22s 1ms/step - loss: 0.0086 - acc: 0.9987 - val_loss: 0.0235 - val_acc: 0.9950\n",
            "Epoch 9/25\n",
            "16000/16000 [==============================] - 22s 1ms/step - loss: 0.0066 - acc: 0.9986 - val_loss: 0.0227 - val_acc: 0.9947\n",
            "Epoch 10/25\n",
            "16000/16000 [==============================] - 22s 1ms/step - loss: 0.0049 - acc: 0.9992 - val_loss: 0.0276 - val_acc: 0.9930\n",
            "Epoch 11/25\n",
            "16000/16000 [==============================] - 22s 1ms/step - loss: 0.0038 - acc: 0.9995 - val_loss: 0.0210 - val_acc: 0.9950\n",
            "Epoch 12/25\n",
            "16000/16000 [==============================] - 22s 1ms/step - loss: 0.0033 - acc: 0.9998 - val_loss: 0.0203 - val_acc: 0.9960\n",
            "Epoch 13/25\n",
            "16000/16000 [==============================] - 22s 1ms/step - loss: 0.0032 - acc: 0.9998 - val_loss: 0.0206 - val_acc: 0.9957\n",
            "Epoch 14/25\n",
            "16000/16000 [==============================] - 22s 1ms/step - loss: 0.0032 - acc: 0.9998 - val_loss: 0.0203 - val_acc: 0.9953\n",
            "Epoch 15/25\n",
            "16000/16000 [==============================] - 22s 1ms/step - loss: 0.0032 - acc: 0.9998 - val_loss: 0.0200 - val_acc: 0.9957\n",
            "Epoch 16/25\n",
            "16000/16000 [==============================] - 23s 1ms/step - loss: 0.0032 - acc: 0.9998 - val_loss: 0.0202 - val_acc: 0.9957\n",
            "Epoch 17/25\n",
            "16000/16000 [==============================] - 22s 1ms/step - loss: 0.0032 - acc: 0.9998 - val_loss: 0.0202 - val_acc: 0.9953\n",
            "Epoch 18/25\n",
            "16000/16000 [==============================] - 22s 1ms/step - loss: 0.0032 - acc: 0.9998 - val_loss: 0.0203 - val_acc: 0.9957\n",
            "Epoch 19/25\n",
            "16000/16000 [==============================] - 22s 1ms/step - loss: 0.0031 - acc: 0.9998 - val_loss: 0.0201 - val_acc: 0.9953\n",
            "Epoch 20/25\n",
            "16000/16000 [==============================] - 23s 1ms/step - loss: 0.0031 - acc: 0.9998 - val_loss: 0.0199 - val_acc: 0.9953\n",
            "Epoch 21/25\n",
            "16000/16000 [==============================] - 23s 1ms/step - loss: 0.0031 - acc: 0.9998 - val_loss: 0.0198 - val_acc: 0.9957\n",
            "Epoch 22/25\n",
            "16000/16000 [==============================] - 22s 1ms/step - loss: 0.0031 - acc: 0.9998 - val_loss: 0.0197 - val_acc: 0.9957\n",
            "Epoch 23/25\n",
            "16000/16000 [==============================] - 22s 1ms/step - loss: 0.0031 - acc: 0.9998 - val_loss: 0.0199 - val_acc: 0.9957\n",
            "Epoch 24/25\n",
            "16000/16000 [==============================] - 21s 1ms/step - loss: 0.0031 - acc: 0.9998 - val_loss: 0.0197 - val_acc: 0.9957\n",
            "Epoch 25/25\n",
            "16000/16000 [==============================] - 22s 1ms/step - loss: 0.0031 - acc: 0.9998 - val_loss: 0.0198 - val_acc: 0.9957\n"
          ],
          "name": "stdout"
        }
      ]
    },
    {
      "cell_type": "code",
      "metadata": {
        "id": "gb4KHD7k_GPD",
        "colab_type": "code",
        "outputId": "6a817d25-a479-4e72-8230-ae5d1f858042",
        "colab": {
          "base_uri": "https://localhost:8080/",
          "height": 36
        }
      },
      "source": [
        "#First model: Accuracy of 98.52%\n",
        "prob_bonus = model_bonus.predict(X_test)\n",
        "print('The accuracy of the model is: ',sklearn.metrics.accuracy_score(y_test.argmax(axis=1),prob_bonus.argmax(axis=1)))\n",
        "#Second model: Accuracy of 99.3%"
      ],
      "execution_count": 0,
      "outputs": [
        {
          "output_type": "stream",
          "text": [
            "The accuracy of the model is:  0.9930534581697372\n"
          ],
          "name": "stdout"
        }
      ]
    },
    {
      "cell_type": "markdown",
      "metadata": {
        "id": "GSPkmqIZz1Xk",
        "colab_type": "text"
      },
      "source": [
        "### Graph ML [40 points]\n",
        "\n",
        "This set of assingments will teach you the differences between various node representations in graphs. Note that all questions are programming assingments but you do not need to use loss function to optimize the claculation of thesee embeddings.  \n",
        "\n",
        "1- (5 points) Write a function randadjmat(n,p) in Python which returns an adjacency matrix for a \"random graph\" on n vertices. Here p is the probability of having an edge between any pair of vertices.\n",
        "\n"
      ]
    },
    {
      "cell_type": "code",
      "metadata": {
        "id": "yaDQ8fGem84d",
        "colab_type": "code",
        "colab": {}
      },
      "source": [
        "import numpy as np\n",
        "import random"
      ],
      "execution_count": 0,
      "outputs": []
    },
    {
      "cell_type": "markdown",
      "metadata": {
        "id": "LerbKcHLn1EX",
        "colab_type": "text"
      },
      "source": [
        "The following function will create an adjacency matrix for a random undirected graph where there is no egdes between a node and itself."
      ]
    },
    {
      "cell_type": "code",
      "metadata": {
        "id": "JeQCdczuz1Xl",
        "colab_type": "code",
        "colab": {}
      },
      "source": [
        "def randadjmat(n,p):\n",
        "    adjmat = np.zeros((n,n))\n",
        "    for r in range(n):\n",
        "      for c in range(r,n):\n",
        "        prob = random.uniform(0,1)\n",
        "        if prob<p and c!=r:\n",
        "          adjmat[r,c]=1\n",
        "          adjmat[c,r]=1 \n",
        "    return adjmat"
      ],
      "execution_count": 0,
      "outputs": []
    },
    {
      "cell_type": "code",
      "metadata": {
        "id": "5czQc_GOmy_L",
        "colab_type": "code",
        "outputId": "fa0bf3ff-9b5f-41bb-c5dd-14a78b93120a",
        "colab": {
          "base_uri": "https://localhost:8080/",
          "height": 92
        }
      },
      "source": [
        "mat = randadjmat(4,.6)\n",
        "print(mat)"
      ],
      "execution_count": 0,
      "outputs": [
        {
          "output_type": "stream",
          "text": [
            "[[0. 0. 0. 1.]\n",
            " [0. 0. 1. 1.]\n",
            " [0. 1. 0. 1.]\n",
            " [1. 1. 1. 0.]]\n"
          ],
          "name": "stdout"
        }
      ]
    },
    {
      "cell_type": "markdown",
      "metadata": {
        "id": "U8Ayg9Sxpei-",
        "colab_type": "text"
      },
      "source": [
        "We can make a different function where we could specify which type of graph we want instead."
      ]
    },
    {
      "cell_type": "code",
      "metadata": {
        "id": "VibALp8jpd0z",
        "colab_type": "code",
        "colab": {}
      },
      "source": [
        "def randadjmat2(n,p,type_graph):\n",
        "    adjmat = np.zeros((n,n))\n",
        "    if type_graph == 'undirected':\n",
        "      for r in range(n):\n",
        "        for c in range(r,n):\n",
        "          prob = random.uniform(0,1)\n",
        "          if prob<p:\n",
        "            adjmat[r,c]=1\n",
        "            adjmat[c,r]=1\n",
        "      return adjmat\n",
        "    if type_graph =='directed':\n",
        "      for r in range(n):\n",
        "        for c in range(n):\n",
        "          prob = random.uniform(0,1)\n",
        "          if prob<p:\n",
        "            adjmat[r,c] =1\n",
        "      return adjmat\n",
        "    else:\n",
        "      return \"The only acceptable types are 'directed' and 'undirected'.\""
      ],
      "execution_count": 0,
      "outputs": []
    },
    {
      "cell_type": "code",
      "metadata": {
        "id": "hP2gGUwFpd_2",
        "colab_type": "code",
        "outputId": "6abc7a01-b5aa-4625-9be6-ad43641e4eba",
        "colab": {
          "base_uri": "https://localhost:8080/",
          "height": 92
        }
      },
      "source": [
        "matdir = randadjmat2(4,.6,'directed')\n",
        "print(matdir)"
      ],
      "execution_count": 0,
      "outputs": [
        {
          "output_type": "stream",
          "text": [
            "[[1. 1. 1. 0.]\n",
            " [1. 0. 0. 0.]\n",
            " [1. 0. 0. 1.]\n",
            " [1. 1. 0. 0.]]\n"
          ],
          "name": "stdout"
        }
      ]
    },
    {
      "cell_type": "markdown",
      "metadata": {
        "id": "yx5xxqfdz1Xn",
        "colab_type": "text"
      },
      "source": [
        "2- (5 points) Write a function transionmat(A) which, given an adjacency matrix A, generate a transition matrix T where probability of each edge (u,v) is calculated as $1/degree(u)$.\n"
      ]
    },
    {
      "cell_type": "code",
      "metadata": {
        "id": "cDwHKejWz1Xn",
        "colab_type": "code",
        "colab": {}
      },
      "source": [
        "def transionmat(A):\n",
        "    return A/A.sum(axis=1, keepdims=True)\n",
        "    "
      ],
      "execution_count": 0,
      "outputs": []
    },
    {
      "cell_type": "code",
      "metadata": {
        "id": "RaOUts9vs6u6",
        "colab_type": "code",
        "outputId": "38e39667-bdd9-4f6a-9598-2704d223272d",
        "colab": {
          "base_uri": "https://localhost:8080/",
          "height": 92
        }
      },
      "source": [
        "tran = transionmat(mat)\n",
        "print(tran)"
      ],
      "execution_count": 0,
      "outputs": [
        {
          "output_type": "stream",
          "text": [
            "[[0.         0.         0.         1.        ]\n",
            " [0.         0.         0.5        0.5       ]\n",
            " [0.         0.5        0.         0.5       ]\n",
            " [0.33333333 0.33333333 0.33333333 0.        ]]\n"
          ],
          "name": "stdout"
        }
      ]
    },
    {
      "cell_type": "markdown",
      "metadata": {
        "id": "2iwkaLWyz1Xp",
        "colab_type": "text"
      },
      "source": [
        "3- (5 points) Write a function hotembd(A) which, given an adjacency matrix A, generate an embedding matrix H where each node is represetned with a 1-hot vector."
      ]
    },
    {
      "cell_type": "code",
      "metadata": {
        "id": "GK5qonBUz1Xq",
        "colab_type": "code",
        "colab": {}
      },
      "source": [
        "def hotembd(A):\n",
        "    return np.eye(len(A))"
      ],
      "execution_count": 0,
      "outputs": []
    },
    {
      "cell_type": "code",
      "metadata": {
        "id": "EgZGBOEX1zpL",
        "colab_type": "code",
        "outputId": "62ced80f-1de6-4973-be55-c01e5dee8125",
        "colab": {
          "base_uri": "https://localhost:8080/",
          "height": 92
        }
      },
      "source": [
        "hot = hotembd(matdir)\n",
        "print(hot)"
      ],
      "execution_count": 0,
      "outputs": [
        {
          "output_type": "stream",
          "text": [
            "[[1. 0. 0. 0.]\n",
            " [0. 1. 0. 0.]\n",
            " [0. 0. 1. 0.]\n",
            " [0. 0. 0. 1.]]\n"
          ],
          "name": "stdout"
        }
      ]
    },
    {
      "cell_type": "markdown",
      "metadata": {
        "id": "wj327X0Fz1Xr",
        "colab_type": "text"
      },
      "source": [
        "4- (5 points) Write a function randwalkemb(A,k) which, given an adjacency matrix A, a transition matrix T, and one-hot encoding H, performs [random walks](https://en.wikipedia.org/wiki/Random_walk) on the graph from each node w times with lenght equal to l and generate an embedding matrix for each node based on the sum of 1-hot encodings of all nodes that are visited during the walks.\n"
      ]
    },
    {
      "cell_type": "code",
      "metadata": {
        "id": "e8uJ5bE_z1Xs",
        "colab_type": "code",
        "colab": {}
      },
      "source": [
        "def randwalkembd(A,T, H, w, l):\n",
        "    final_mat = np.zeros(shape=(A.shape))\n",
        "    cum_prob = np.cumsum(T,axis=1)\n",
        "    for node in range(len(A)):\n",
        "      for n_walk in range(w):\n",
        "        #print('New walk starts')\n",
        "        current_node = node\n",
        "        for step in range(l):\n",
        "          #print('We take the step #',step+1)\n",
        "          prob = random.uniform(0,1)\n",
        "          futur_node = np.argwhere(cum_prob[current_node,:]>prob)[0]\n",
        "          if len(futur_node)>1:\n",
        "            next_node = futur_node[-1]\n",
        "          else: \n",
        "            next_node=futur_node\n",
        "          #print(node,current_node,next_node)\n",
        "          #print(H[next_node])\n",
        "          final_mat[node] = final_mat[node] + H[next_node]\n",
        "          #print(final_mat)\n",
        "          current_node=next_node\n",
        "    \n",
        "    return final_mat\n",
        "\n",
        "\n",
        "    \n",
        "    "
      ],
      "execution_count": 0,
      "outputs": []
    },
    {
      "cell_type": "code",
      "metadata": {
        "id": "xdK41biK7ZlU",
        "colab_type": "code",
        "outputId": "090d45ce-3f26-46c0-e9d8-a9a237670268",
        "colab": {
          "base_uri": "https://localhost:8080/",
          "height": 92
        }
      },
      "source": [
        "embrand = randwalkembd(mat,tran,hot,2,3)\n",
        "print(embrand)"
      ],
      "execution_count": 0,
      "outputs": [
        {
          "output_type": "stream",
          "text": [
            "[[0. 1. 2. 3.]\n",
            " [0. 1. 3. 2.]\n",
            " [0. 3. 2. 1.]\n",
            " [0. 3. 1. 2.]]\n"
          ],
          "name": "stdout"
        }
      ]
    },
    {
      "cell_type": "markdown",
      "metadata": {
        "id": "6LmVTdbbz1Xu",
        "colab_type": "text"
      },
      "source": [
        "5- (5 points) Write a function hopeneighbormbd(A,H,k) which, given an adjacency matrix A, and one-hot node encoding matrix H, generates node embedding matrix which represents each node as sum of 1-hot encodings of k-hobs neighbors. \n"
      ]
    },
    {
      "cell_type": "code",
      "metadata": {
        "id": "d78ER544z1Xv",
        "colab_type": "code",
        "colab": {}
      },
      "source": [
        "def hopeneighbormbd(A, H, k):\n",
        "    return np.linalg.matrix_power(A,k)"
      ],
      "execution_count": 0,
      "outputs": []
    },
    {
      "cell_type": "markdown",
      "metadata": {
        "id": "sTI-7W7mz1Xz",
        "colab_type": "text"
      },
      "source": [
        "6- (5 points) Write a function similarnodes(Z) which, given an node embedding matrix, find the most similar nodes in the graph. "
      ]
    },
    {
      "cell_type": "code",
      "metadata": {
        "id": "gu4IdRM-z1Xz",
        "colab_type": "code",
        "colab": {}
      },
      "source": [
        "def similarnodes(Z):\n",
        "    sim = np.dot(np.transpose(Z),Z)\n",
        "    np.fill_diagonal(sim,0)\n",
        "    ind = np.unravel_index(np.argmax(sim, axis=None), sim.shape)\n",
        "    return ind"
      ],
      "execution_count": 0,
      "outputs": []
    },
    {
      "cell_type": "code",
      "metadata": {
        "id": "fyCoww7i5AXp",
        "colab_type": "code",
        "outputId": "ce9db53a-d8c4-4668-b290-0fc00eef1a97",
        "colab": {
          "base_uri": "https://localhost:8080/",
          "height": 36
        }
      },
      "source": [
        "similarnodes(embrand)"
      ],
      "execution_count": 0,
      "outputs": [
        {
          "output_type": "execute_result",
          "data": {
            "text/plain": [
              "(2, 3)"
            ]
          },
          "metadata": {
            "tags": []
          },
          "execution_count": 19
        }
      ]
    },
    {
      "cell_type": "markdown",
      "metadata": {
        "id": "PxScaoM6z1X1",
        "colab_type": "text"
      },
      "source": [
        "7- (10 points) generate a random graph where n=20, and p=0.6, and compare the most similar nodes in the graph using randwalkembd (l=4, w=10), hopeneighbormbd (k=1) and hopeneighbormbd (k=2). Justify why similar nodes are different using different node embeddings?"
      ]
    },
    {
      "cell_type": "code",
      "metadata": {
        "id": "mgtqzptbz1X1",
        "colab_type": "code",
        "outputId": "c35edb9f-4aa6-4e62-be55-b4f4d4e9e704",
        "colab": {
          "base_uri": "https://localhost:8080/",
          "height": 1000
        }
      },
      "source": [
        "## We generate the adjencency matrix of a random graph using randadjmat:\n",
        "A = randadjmat(20,.6)\n",
        "\n",
        "print('The matrix is:', A)\n",
        "\n",
        "## We can create our transition matrix and our one-hot matrix related to A.\n",
        "T = transionmat(A)\n",
        "H = hotembd(A)\n",
        "\n",
        "print(\"The random walk embedding:\")\n",
        "embed_walk = randwalkembd(A,T,H,10,4)\n",
        "print(embed_walk)\n",
        "print(\"The 1-hop embedding:\")\n",
        "embed_hop1 = hopeneighbormbd(A, H, 1)\n",
        "print(embed_hop1)\n",
        "print(\"The 2-hop embedding:\")\n",
        "embed_hop2 = hopeneighbormbd(A, H, 2)\n",
        "print(embed_hop2)\n",
        "\n",
        "print(\"The two nodes that are most similar with the random walk embedding are:\", similarnodes(embed_walk)[0] , \"and\", similarnodes(embed_walk)[1],\".\" )\n",
        "print(\"The two nodes that are most similar with the 1-hop embedding are:\", similarnodes(embed_hop1)[0], \"and\",similarnodes(embed_hop1)[1], \".\"  )\n",
        "print(\"The two nodes that are most similar with the 2-hop embedding are:\", similarnodes(embed_hop2)[0], \"and\",similarnodes(embed_hop2)[1], \".\"  )"
      ],
      "execution_count": 0,
      "outputs": [
        {
          "output_type": "stream",
          "text": [
            "The matrix is: [[0. 1. 0. 1. 1. 0. 1. 1. 0. 1. 1. 0. 1. 1. 1. 0. 0. 1. 1. 1.]\n",
            " [1. 0. 1. 1. 0. 0. 1. 0. 1. 1. 1. 1. 1. 1. 1. 1. 0. 0. 0. 1.]\n",
            " [0. 1. 0. 0. 1. 0. 1. 0. 0. 0. 1. 0. 0. 1. 0. 0. 1. 1. 0. 1.]\n",
            " [1. 1. 0. 0. 0. 0. 1. 0. 1. 0. 0. 1. 1. 0. 0. 0. 1. 0. 0. 1.]\n",
            " [1. 0. 1. 0. 0. 1. 0. 0. 1. 1. 0. 1. 1. 1. 0. 1. 1. 1. 1. 1.]\n",
            " [0. 0. 0. 0. 1. 0. 1. 0. 0. 1. 0. 0. 1. 0. 0. 1. 0. 1. 1. 1.]\n",
            " [1. 1. 1. 1. 0. 1. 0. 1. 1. 1. 1. 0. 1. 0. 1. 0. 1. 1. 1. 1.]\n",
            " [1. 0. 0. 0. 0. 0. 1. 0. 0. 0. 1. 1. 0. 1. 1. 1. 1. 1. 0. 1.]\n",
            " [0. 1. 0. 1. 1. 0. 1. 0. 0. 1. 1. 1. 1. 1. 1. 0. 1. 1. 0. 1.]\n",
            " [1. 1. 0. 0. 1. 1. 1. 0. 1. 0. 0. 1. 1. 1. 1. 1. 0. 0. 1. 0.]\n",
            " [1. 1. 1. 0. 0. 0. 1. 1. 1. 0. 0. 1. 0. 0. 1. 0. 1. 0. 1. 1.]\n",
            " [0. 1. 0. 1. 1. 0. 0. 1. 1. 1. 1. 0. 0. 0. 1. 1. 0. 1. 1. 1.]\n",
            " [1. 1. 0. 1. 1. 1. 1. 0. 1. 1. 0. 0. 0. 1. 0. 1. 1. 1. 1. 1.]\n",
            " [1. 1. 1. 0. 1. 0. 0. 1. 1. 1. 0. 0. 1. 0. 0. 1. 0. 1. 1. 0.]\n",
            " [1. 1. 0. 0. 0. 0. 1. 1. 1. 1. 1. 1. 0. 0. 0. 0. 0. 1. 0. 0.]\n",
            " [0. 1. 0. 0. 1. 1. 0. 1. 0. 1. 0. 1. 1. 1. 0. 0. 0. 1. 1. 1.]\n",
            " [0. 0. 1. 1. 1. 0. 1. 1. 1. 0. 1. 0. 1. 0. 0. 0. 0. 0. 1. 1.]\n",
            " [1. 0. 1. 0. 1. 1. 1. 1. 1. 0. 0. 1. 1. 1. 1. 1. 0. 0. 1. 1.]\n",
            " [1. 0. 0. 0. 1. 1. 1. 0. 0. 1. 1. 1. 1. 1. 0. 1. 1. 1. 0. 1.]\n",
            " [1. 1. 1. 1. 1. 1. 1. 1. 1. 0. 1. 1. 1. 0. 0. 1. 1. 1. 1. 0.]]\n",
            "The random walk embedding:\n",
            "[[3. 3. 1. 4. 1. 2. 6. 0. 2. 1. 2. 2. 2. 2. 2. 2. 1. 4. 0. 0.]\n",
            " [2. 0. 1. 1. 1. 0. 2. 0. 2. 3. 4. 3. 1. 3. 3. 3. 0. 4. 2. 5.]\n",
            " [3. 1. 2. 3. 1. 0. 2. 0. 2. 3. 5. 0. 3. 2. 1. 0. 3. 4. 3. 2.]\n",
            " [2. 1. 0. 0. 0. 1. 2. 0. 2. 3. 2. 3. 5. 1. 1. 3. 4. 4. 1. 5.]\n",
            " [4. 2. 0. 1. 3. 2. 2. 1. 3. 3. 0. 3. 3. 1. 0. 2. 1. 2. 4. 3.]\n",
            " [3. 3. 1. 1. 2. 0. 6. 2. 0. 4. 0. 0. 2. 0. 0. 6. 1. 3. 4. 2.]\n",
            " [5. 2. 1. 2. 1. 2. 2. 2. 2. 0. 2. 3. 1. 2. 2. 1. 2. 3. 3. 2.]\n",
            " [1. 0. 0. 0. 3. 2. 5. 0. 3. 1. 4. 3. 2. 2. 1. 2. 5. 4. 0. 2.]\n",
            " [3. 1. 0. 2. 3. 1. 0. 1. 7. 3. 2. 2. 2. 5. 2. 0. 2. 2. 2. 0.]\n",
            " [2. 1. 0. 1. 2. 2. 2. 2. 5. 1. 2. 2. 5. 2. 1. 2. 1. 1. 4. 2.]\n",
            " [2. 1. 3. 1. 2. 0. 3. 5. 0. 1. 3. 2. 0. 1. 3. 3. 0. 2. 3. 5.]\n",
            " [2. 2. 0. 2. 3. 2. 4. 6. 1. 0. 1. 2. 1. 1. 3. 3. 2. 2. 1. 2.]\n",
            " [1. 4. 1. 1. 4. 1. 3. 0. 3. 5. 1. 4. 1. 1. 3. 2. 2. 1. 1. 1.]\n",
            " [1. 2. 5. 1. 2. 1. 1. 1. 3. 1. 1. 0. 2. 2. 1. 2. 4. 3. 3. 4.]\n",
            " [3. 4. 0. 0. 3. 1. 4. 2. 4. 3. 1. 5. 1. 0. 2. 1. 0. 3. 2. 1.]\n",
            " [1. 4. 0. 2. 2. 2. 1. 5. 1. 1. 0. 3. 2. 1. 2. 4. 1. 2. 3. 3.]\n",
            " [3. 2. 3. 1. 2. 3. 2. 2. 1. 0. 2. 0. 5. 0. 1. 1. 5. 3. 1. 3.]\n",
            " [3. 1. 0. 1. 3. 2. 3. 2. 3. 1. 2. 1. 2. 4. 0. 3. 0. 1. 4. 4.]\n",
            " [2. 1. 0. 1. 2. 1. 1. 3. 3. 3. 3. 1. 4. 5. 0. 2. 2. 0. 1. 5.]\n",
            " [5. 1. 2. 1. 1. 1. 4. 0. 1. 1. 3. 2. 2. 1. 4. 0. 4. 5. 1. 1.]]\n",
            "The 1-hop embedding:\n",
            "[[0. 1. 0. 1. 1. 0. 1. 1. 0. 1. 1. 0. 1. 1. 1. 0. 0. 1. 1. 1.]\n",
            " [1. 0. 1. 1. 0. 0. 1. 0. 1. 1. 1. 1. 1. 1. 1. 1. 0. 0. 0. 1.]\n",
            " [0. 1. 0. 0. 1. 0. 1. 0. 0. 0. 1. 0. 0. 1. 0. 0. 1. 1. 0. 1.]\n",
            " [1. 1. 0. 0. 0. 0. 1. 0. 1. 0. 0. 1. 1. 0. 0. 0. 1. 0. 0. 1.]\n",
            " [1. 0. 1. 0. 0. 1. 0. 0. 1. 1. 0. 1. 1. 1. 0. 1. 1. 1. 1. 1.]\n",
            " [0. 0. 0. 0. 1. 0. 1. 0. 0. 1. 0. 0. 1. 0. 0. 1. 0. 1. 1. 1.]\n",
            " [1. 1. 1. 1. 0. 1. 0. 1. 1. 1. 1. 0. 1. 0. 1. 0. 1. 1. 1. 1.]\n",
            " [1. 0. 0. 0. 0. 0. 1. 0. 0. 0. 1. 1. 0. 1. 1. 1. 1. 1. 0. 1.]\n",
            " [0. 1. 0. 1. 1. 0. 1. 0. 0. 1. 1. 1. 1. 1. 1. 0. 1. 1. 0. 1.]\n",
            " [1. 1. 0. 0. 1. 1. 1. 0. 1. 0. 0. 1. 1. 1. 1. 1. 0. 0. 1. 0.]\n",
            " [1. 1. 1. 0. 0. 0. 1. 1. 1. 0. 0. 1. 0. 0. 1. 0. 1. 0. 1. 1.]\n",
            " [0. 1. 0. 1. 1. 0. 0. 1. 1. 1. 1. 0. 0. 0. 1. 1. 0. 1. 1. 1.]\n",
            " [1. 1. 0. 1. 1. 1. 1. 0. 1. 1. 0. 0. 0. 1. 0. 1. 1. 1. 1. 1.]\n",
            " [1. 1. 1. 0. 1. 0. 0. 1. 1. 1. 0. 0. 1. 0. 0. 1. 0. 1. 1. 0.]\n",
            " [1. 1. 0. 0. 0. 0. 1. 1. 1. 1. 1. 1. 0. 0. 0. 0. 0. 1. 0. 0.]\n",
            " [0. 1. 0. 0. 1. 1. 0. 1. 0. 1. 0. 1. 1. 1. 0. 0. 0. 1. 1. 1.]\n",
            " [0. 0. 1. 1. 1. 0. 1. 1. 1. 0. 1. 0. 1. 0. 0. 0. 0. 0. 1. 1.]\n",
            " [1. 0. 1. 0. 1. 1. 1. 1. 1. 0. 0. 1. 1. 1. 1. 1. 0. 0. 1. 1.]\n",
            " [1. 0. 0. 0. 1. 1. 1. 0. 0. 1. 1. 1. 1. 1. 0. 1. 1. 1. 0. 1.]\n",
            " [1. 1. 1. 1. 1. 1. 1. 1. 1. 0. 1. 1. 1. 0. 0. 1. 1. 1. 1. 0.]]\n",
            "The 2-hop embedding:\n",
            "[[13.  8.  7.  4.  6.  7. 10.  6. 11.  7.  6. 10.  9.  7.  6.  9.  8.  8.\n",
            "   8.  9.]\n",
            " [ 8. 13.  4.  6.  9.  5.  9.  8.  9.  8.  7.  7.  8.  6.  6.  5.  7. 10.\n",
            "   9.  9.]\n",
            " [ 7.  4.  8.  4.  4.  4.  5.  6.  8.  4.  4.  5.  7.  3.  4.  5.  4.  4.\n",
            "   7.  6.]\n",
            " [ 4.  6.  4.  8.  6.  3.  6.  5.  6.  6.  7.  3.  6.  4.  5.  4.  4.  6.\n",
            "   6.  7.]\n",
            " [ 6.  9.  4.  6. 13.  6. 10.  7.  7.  8.  7.  6. 10.  8.  5.  8.  5. 10.\n",
            "  10. 10.]\n",
            " [ 7.  5.  4.  3.  6.  8.  5.  4.  6.  5.  3.  6.  7.  6.  3.  6.  5.  6.\n",
            "   7.  6.]\n",
            " [10.  9.  5.  6. 10.  5. 15.  6.  9.  7.  9. 10. 10.  9.  7.  8.  8.  9.\n",
            "   8. 12.]\n",
            " [ 6.  8.  6.  5.  7.  4.  6. 10.  8.  6.  6.  5.  7.  3.  5.  4.  3.  7.\n",
            "   9.  7.]\n",
            " [11.  9.  8.  6.  7.  6.  9.  8. 13.  7.  6.  8.  9.  5.  6.  8.  6.  7.\n",
            "  10.  9.]\n",
            " [ 7.  8.  4.  6.  8.  5.  7.  6.  7. 12.  7.  6.  9.  7.  5.  7.  5. 11.\n",
            "   8. 10.]\n",
            " [ 6.  7.  4.  7.  7.  3.  9.  6.  6.  7. 11.  6.  7.  6.  6.  5.  6.  9.\n",
            "   5.  9.]\n",
            " [10.  7.  5.  3.  6.  6. 10.  5.  8.  6.  6. 12.  9.  8.  6.  7.  7.  7.\n",
            "   6.  9.]\n",
            " [ 9.  8.  7.  6. 10.  7. 10.  7.  9.  9.  7.  9. 14.  8.  6.  8.  6.  9.\n",
            "  10. 11.]\n",
            " [ 7.  6.  3.  4.  8.  6.  9.  3.  5.  7.  6.  8.  8. 11.  6.  7.  6.  8.\n",
            "   6. 10.]\n",
            " [ 6.  6.  4.  5.  5.  3.  7.  5.  6.  5.  6.  6.  6.  6.  9.  5.  4.  5.\n",
            "   6.  8.]\n",
            " [ 9.  5.  5.  4.  8.  6.  8.  4.  8.  7.  5.  7.  8.  7.  5. 11.  5.  8.\n",
            "   8.  8.]\n",
            " [ 8.  7.  4.  4.  5.  5.  8.  3.  6.  5.  6.  7.  6.  6.  4.  5. 10.  8.\n",
            "   5.  9.]\n",
            " [ 8. 10.  4.  6. 10.  6.  9.  7.  7. 11.  9.  7.  9.  8.  5.  8.  8. 14.\n",
            "   9. 11.]\n",
            " [ 8.  9.  7.  6. 10.  7.  8.  9. 10.  8.  5.  6. 10.  6.  6.  8.  5.  9.\n",
            "  13. 10.]\n",
            " [ 9.  9.  6.  7. 10.  6. 12.  7.  9. 10.  9.  9. 11. 10.  8.  8.  9. 11.\n",
            "  10. 16.]]\n",
            "The two nodes that are most similar with the random walk embedding are: 6 and 17 .\n",
            "The two nodes that are most similar with the 1-hop embedding are: 6 and 19 .\n",
            "The two nodes that are most similar with the 2-hop embedding are: 6 and 19 .\n"
          ],
          "name": "stdout"
        }
      ]
    },
    {
      "cell_type": "markdown",
      "metadata": {
        "id": "LHwkSJAOxDXl",
        "colab_type": "text"
      },
      "source": [
        "**The nodes are different because they do not consider the same characteristic for similarity. Random walk consider two nodes similar if they happen together on a random walk while multi-hop encoding consider the link between the nodes to calculate similarity and in particular, the 1-hop consider only the nodes that are directly connected to each other.**"
      ]
    }
  ]
}